{
 "cells": [
  {
   "cell_type": "markdown",
   "id": "42d3e60a",
   "metadata": {},
   "source": [
    "# Variables"
   ]
  },
  {
   "cell_type": "code",
   "execution_count": 437,
   "id": "535f3e43",
   "metadata": {},
   "outputs": [],
   "source": [
    "OPENAI_API_KEY='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'\n",
    "FIRECRAWL_API_KEY='fc-e36282d62d1c4ee8971ec0649f3862c7'\n",
    "BASE_URL='https://api.groq.com/openai/v1'\n",
    "MODEL=\"meta-llama/llama-4-scout-17b-16e-instruct\""
   ]
  },
  {
   "cell_type": "markdown",
   "id": "42744f82",
   "metadata": {},
   "source": [
    "# Import Modules"
   ]
  },
  {
   "cell_type": "code",
   "execution_count": 438,
   "id": "91bed7af",
   "metadata": {},
   "outputs": [
    {
     "name": "stdout",
     "output_type": "stream",
     "text": [
      "['/usr/local/lib/python312.zip', '/usr/local/lib/python3.12', '/usr/local/lib/python3.12/lib-dynload', '', '/home/hieuclc/ise_chenla/venv/lib/python3.12/site-packages', '..', '..', '..', '..', '..', '..', '..']\n"
     ]
    }
   ],
   "source": [
    "import sys\n",
    "sys.path.append('..')\n",
    "print(sys.path)\n",
    "from tools.fetching_description_from_huggingface import fetching_description_from_huggingface\n",
    "from typing import TypedDict, Annotated, List\n",
    "from langchain_openai import ChatOpenAI\n",
    "from langchain.prompts import ChatPromptTemplate\n",
    "from langgraph.graph import StateGraph, START, END\n",
    "from langgraph.graph.message import add_messages\n",
    "from langchain_core.messages import BaseMessage, HumanMessage, SystemMessage, AIMessage\n",
    "from langchain.agents import create_tool_calling_agent, AgentExecutor\n",
    "from pydantic import BaseModel, Field\n",
    "from langchain.tools import Tool\n",
    "from firecrawl import FirecrawlApp\n",
    "from langchain_core.output_parsers import PydanticOutputParser\n",
    "import pandas as pd\n",
    "import pprint"
   ]
  },
  {
   "cell_type": "markdown",
   "id": "36830718",
   "metadata": {},
   "source": [
    "# Testing"
   ]
  },
  {
   "cell_type": "code",
   "execution_count": 439,
   "id": "5827b009",
   "metadata": {},
   "outputs": [],
   "source": [
    "df_task = pd.read_csv(\"data/ISE - AutoCode Challenge 2 Public - Public task.csv\")\n",
    "df_model = pd.read_csv(\"data/ISE - AutoCode Challenge 2 Public - Model zoo.csv\")"
   ]
  },
  {
   "cell_type": "code",
   "execution_count": 440,
   "id": "22abc01f",
   "metadata": {},
   "outputs": [
    {
     "data": {
      "text/html": [
       "<div>\n",
       "<style scoped>\n",
       "    .dataframe tbody tr th:only-of-type {\n",
       "        vertical-align: middle;\n",
       "    }\n",
       "\n",
       "    .dataframe tbody tr th {\n",
       "        vertical-align: top;\n",
       "    }\n",
       "\n",
       "    .dataframe thead th {\n",
       "        text-align: right;\n",
       "    }\n",
       "</style>\n",
       "<table border=\"1\" class=\"dataframe\">\n",
       "  <thead>\n",
       "    <tr style=\"text-align: right;\">\n",
       "      <th></th>\n",
       "      <th>STT</th>\n",
       "      <th>Task</th>\n",
       "      <th>Validation data</th>\n",
       "    </tr>\n",
       "  </thead>\n",
       "  <tbody>\n",
       "    <tr>\n",
       "      <th>0</th>\n",
       "      <td>1</td>\n",
       "      <td>\"Bối cảnh của vấn đề:\\nNhận dạng chữ viết tay ...</td>\n",
       "      <td>Link</td>\n",
       "    </tr>\n",
       "    <tr>\n",
       "      <th>1</th>\n",
       "      <td>2</td>\n",
       "      <td>Bối cảnh của vấn đề:\\nTrong thời đại thông tin...</td>\n",
       "      <td>Link</td>\n",
       "    </tr>\n",
       "    <tr>\n",
       "      <th>2</th>\n",
       "      <td>3</td>\n",
       "      <td>Bối cảnh của vấn đề:\\nĐây là một nhiệm vụ hồi ...</td>\n",
       "      <td>Link</td>\n",
       "    </tr>\n",
       "    <tr>\n",
       "      <th>3</th>\n",
       "      <td>4</td>\n",
       "      <td>Bối cảnh của vấn đề:\\nĐiều quan trọng là các c...</td>\n",
       "      <td>Link</td>\n",
       "    </tr>\n",
       "    <tr>\n",
       "      <th>4</th>\n",
       "      <td>5</td>\n",
       "      <td>Bối cảnh của vấn đề:\\nTrong nhiều ứng dụng thự...</td>\n",
       "      <td>Link</td>\n",
       "    </tr>\n",
       "  </tbody>\n",
       "</table>\n",
       "</div>"
      ],
      "text/plain": [
       "   STT                                               Task Validation data\n",
       "0    1  \"Bối cảnh của vấn đề:\\nNhận dạng chữ viết tay ...            Link\n",
       "1    2  Bối cảnh của vấn đề:\\nTrong thời đại thông tin...            Link\n",
       "2    3  Bối cảnh của vấn đề:\\nĐây là một nhiệm vụ hồi ...            Link\n",
       "3    4  Bối cảnh của vấn đề:\\nĐiều quan trọng là các c...            Link\n",
       "4    5  Bối cảnh của vấn đề:\\nTrong nhiều ứng dụng thự...            Link"
      ]
     },
     "execution_count": 440,
     "metadata": {},
     "output_type": "execute_result"
    }
   ],
   "source": [
    "df_task"
   ]
  },
  {
   "cell_type": "code",
   "execution_count": 441,
   "id": "697add1e",
   "metadata": {},
   "outputs": [],
   "source": [
    "task = df_task[\"Task\"][4]"
   ]
  },
  {
   "cell_type": "code",
   "execution_count": 442,
   "id": "953cae02",
   "metadata": {},
   "outputs": [
    {
     "data": {
      "text/plain": [
       "'Bối cảnh của vấn đề:\\nTrong nhiều ứng dụng thực tế như tổng hợp nội dung hình ảnh, phân loại album, hay trích xuất đặc trưng nội dung cho ảnh tổ hợp, cần xác định chủ đề chính của một ảnh ghép từ nhiều ảnh con. Bài toán này đòi hỏi ứng dụng không chỉ nhận diện được nội dung của từng ảnh con, mà còn cần xác định chủ đề chiếm ưu thế trong toàn bộ ảnh tổng thể.\\n\\nYêu cầu cụ thể cần đạt được:\\nMỗi đầu vào là một ảnh tổ hợp, ghép từ 9 ảnh màu nhỏ (3x3).\\nNhiệm vụ của ứng dụng là:\\nXác định chủ đề chiếm số lượng nhiều nhất trong 9 ảnh con.\\nTrường hợp có nhiều chủ đề xuất hiện với tần suất bằng nhau, có thể chọn một chủ đề bất kỳ trong số đó làm kết quả.\\n\\nĐịnh dạng dữ liệu đầu vào cho bài toán tổng thể:\\nMột thư mục có tên là \"images\" chứa các ảnh màu RGB (288x288), được ghép từ 9 ảnh RGB con (32x32) (3 hàng × 3 cột).\\n\\nĐịnh dạng kết quả đầu ra mong muốn cho bài toán tổng thể:\\nFile output.csv mỗi hàng là kết quả dự đoán mỗi ảnh\\ncó các cột:\\nfile_name: tên file ảnh\\nprediction: nhãn của ảnh. \\nnhãn của ảnh là một nhãn duy nhất đại diện cho chủ đề xuất hiện nhiều nhất trong 9 ảnh con.\\nCác chủ đề sau nằm trong danh sách sau:\\n       [\\'forest\\', \\'orchid\\', \\'spider\\', \\'fox\\', \\'caterpillar\\', \\'crocodile\\',\\n       \\'whale\\', \\'road\\', \\'motorcycle\\', \\'tiger\\', \\'woman\\', \\'orange\\',\\n       \\'elephant\\', \\'otter\\', \\'flatfish\\', \\'cup\\', \\'sea\\', \\'mountain\\', \\'cloud\\',\\n       \\'willow_tree\\', \\'rabbit\\', \\'couch\\', \\'maple_tree\\', \\'wardrobe\\',\\n       \\'mushroom\\', \\'plain\\', \\'telephone\\', \\'shrew\\', \\'bowl\\', \\'tractor\\',\\n       \\'camel\\', \\'bus\\', \\'cattle\\', \\'house\\', \\'cockroach\\', \\'lawn_mower\\',\\n       \\'oak_tree\\', \\'apple\\', \\'bicycle\\', \\'beetle\\', \\'palm_tree\\', \\'sunflower\\',\\n       \\'poppy\\', \\'keyboard\\', \\'porcupine\\', \\'snake\\', \\'can\\', \\'pear\\', \\'shark\\',\\n       \\'chimpanzee\\', \\'hamster\\', \\'train\\', \\'cra\\', \\'bear\\', \\'sweet_pepper\\',\\n       \\'pine_tree\\', \\'bed\\', \\'tank\\', \\'beaver\\', \\'bridge\\', \\'girl\\',\\n       \\'skyscraper\\', \\'wolf\\', \\'raccoon\\', \\'rose\\', \\'worm\\', \\'table\\',\\n       \\'pickup_truck\\', \\'turtle\\', \\'lizard\\', \\'leopard\\', \\'streetcar\\',\\n       \\'rocket\\', \\'man\\', \\'tulip\\', \\'lamp\\', \\'seal\\', \\'lion\\', \\'butterfly\\',\\n       \\'kangaroo\\', \\'television\\', \\'ray\\', \\'chair\\', \\'skunk\\', \\'trout\\',\\n       \\'possum\\', \\'mouse\\']'"
      ]
     },
     "execution_count": 442,
     "metadata": {},
     "output_type": "execute_result"
    }
   ],
   "source": [
    "task"
   ]
  },
  {
   "cell_type": "code",
   "execution_count": 443,
   "id": "b6909b40",
   "metadata": {},
   "outputs": [],
   "source": [
    "def format_model_list(df):\n",
    "    model_strings = []\n",
    "    for i, row in df.iterrows():\n",
    "        desc = str(row[1]).replace(\"{\", \"{{\").replace(\"}\", \"}}\")\n",
    "        url = str(row[2])\n",
    "        model_strings.append(f\"{i + 1} - {desc} [More info]({url})\")\n",
    "    return \"\\n\".join(model_strings)\n"
   ]
  },
  {
   "cell_type": "markdown",
   "id": "f5c40886",
   "metadata": {},
   "source": [
    "## Tools"
   ]
  },
  {
   "cell_type": "code",
   "execution_count": 444,
   "id": "af3bcff3",
   "metadata": {},
   "outputs": [],
   "source": [
    "def web_scraper(url: str) -> str:\n",
    "    \"\"\"Get more details about the model using the model url\"\"\"\n",
    "    # scraper = FirecrawlApp(api_key=FIRECRAWL_API_KEY)\n",
    "    # scrape_status = scraper.scrape_url(\n",
    "    #     url,\n",
    "    #     formats=['markdown']\n",
    "    # )\n",
    "    # return scrape_status.markdown\n",
    "    result = fetching_description_from_huggingface(url)\n",
    "    return result"
   ]
  },
  {
   "cell_type": "code",
   "execution_count": 445,
   "id": "77f3a676",
   "metadata": {},
   "outputs": [],
   "source": [
    "class WebScraperParameters(BaseModel):\n",
    "    url: str"
   ]
  },
  {
   "cell_type": "code",
   "execution_count": 446,
   "id": "b6a0e635",
   "metadata": {},
   "outputs": [],
   "source": [
    "res = web_scraper('https://huggingface.co/thanhtlx/image_classification_01')"
   ]
  },
  {
   "cell_type": "code",
   "execution_count": 447,
   "id": "52a9c3fb",
   "metadata": {},
   "outputs": [],
   "source": [
    "tools = [\n",
    "    Tool(\n",
    "        name=\"web_scrapper\",\n",
    "        func=web_scraper,\n",
    "        description=\"Use to get more detail about the model\",\n",
    "        args_schema=WebScraperParameters\n",
    "    )\n",
    "]"
   ]
  },
  {
   "cell_type": "markdown",
   "id": "7c409f8b",
   "metadata": {},
   "source": [
    "## Model"
   ]
  },
  {
   "cell_type": "code",
   "execution_count": 448,
   "id": "eca82430",
   "metadata": {},
   "outputs": [],
   "source": [
    "llm = ChatOpenAI( \n",
    "    base_url=BASE_URL,\n",
    "    model=MODEL,\n",
    "    api_key=OPENAI_API_KEY,\n",
    "    temperature=0.3\n",
    ")"
   ]
  },
  {
   "cell_type": "code",
   "execution_count": 449,
   "id": "6511a16c",
   "metadata": {},
   "outputs": [],
   "source": [
    "class Tasks(BaseModel):\n",
    "    subtask_one: str = Field(\n",
    "        ...,\n",
    "        description=\"Detailed description of task 1\"\n",
    "    )\n",
    "    subtask_two: str = Field(\n",
    "        ...,\n",
    "        description=\"Detailed description of task 2\"\n",
    "    )\n",
    "    subtask_three: str = Field(\n",
    "        ...,\n",
    "        description=\"Detailed description of task 3\"\n",
    "    )\n",
    "    subtask_four: str = Field(\n",
    "        ...,\n",
    "        description=\"Detailed description of task 4\"\n",
    "    )"
   ]
  },
  {
   "cell_type": "code",
   "execution_count": 450,
   "id": "0de6f780",
   "metadata": {},
   "outputs": [],
   "source": [
    "class AgentState(TypedDict):\n",
    "    task: HumanMessage | None\n",
    "    data: str | None\n",
    "    messages: Annotated[BaseMessage, add_messages]\n",
    "    subtasks: Tasks"
   ]
  },
  {
   "cell_type": "code",
   "execution_count": 451,
   "id": "ef593964",
   "metadata": {},
   "outputs": [],
   "source": [
    "def classify_agent(state: AgentState) -> AgentState:\n",
    "    structured_llm = llm.with_structured_output(Tasks)\n",
    "    system_prompt = \"\"\"\n",
    "        You are an expert in task formulation. Given a machine learning task, you will\n",
    "        help divide the task into these subtasks:\n",
    "        - Subtask1: for identifying task description and classify the problem type.\n",
    "        - Subtask2: for identifying the problem requirements as described in the \"Yêu cầu cụ thể cần đạt được\" (or other equivalent) section, including: problem requirements, expected input and expected output.\n",
    "        - Subtask3: for identifying the input format of the problem, as being described in the \"Định dạng dữ liệu đầu vào cho bài toán tổng thể\" (or other equivalent) section.\n",
    "        - Subtask4: for identifying the output format of the problem with the given classes, as being described in the \"Định dạng kết quả đầu ra mong muốn cho bài toán tổng thể\" (or other equivalent) section.\n",
    "\n",
    "        You **MUST** follow these guidelines:\n",
    "        - Do not mistake the output classes with the one described in the problem requirements. The output classes **MUST** contain the classes described in the \"Định dạng kết quả đầu ra mong muốn cho bài toán tổng thể\" section.\n",
    "        - Describe the subtasks as specific as possible.\n",
    "        \"\"\"\n",
    "    messages = [SystemMessage(content=system_prompt)]\n",
    "    messages.append(state['task'])\n",
    "    result = structured_llm.invoke(messages)\n",
    "    state['subtasks'] = result\n",
    "    return state"
   ]
  },
  {
   "cell_type": "code",
   "execution_count": 452,
   "id": "6a39d4a8",
   "metadata": {},
   "outputs": [],
   "source": [
    "task = df_task[\"Task\"][2]"
   ]
  },
  {
   "cell_type": "code",
   "execution_count": 453,
   "id": "14b15c8b",
   "metadata": {},
   "outputs": [],
   "source": [
    "state = {\n",
    "    \"task\": HumanMessage(content=task),\n",
    "}"
   ]
  },
  {
   "cell_type": "code",
   "execution_count": 454,
   "id": "78675acb",
   "metadata": {},
   "outputs": [],
   "source": [
    "state = classify_agent(state)"
   ]
  },
  {
   "cell_type": "code",
   "execution_count": 455,
   "id": "bf9d721c",
   "metadata": {},
   "outputs": [
    {
     "name": "stdout",
     "output_type": "stream",
     "text": [
      "('Xác định mô tả bài toán và phân loại loại bài toán. Bài toán này là một '\n",
      " 'nhiệm vụ hồi quy, nhưng mục tiêu cuối cùng là phân loại giá trị trung bình '\n",
      " \"của nhà ở vào các nhóm 'rẻ', 'trung bình', hay 'đắt'.\")\n"
     ]
    }
   ],
   "source": [
    "pprint.pprint(state['subtasks'].subtask_one)"
   ]
  },
  {
   "cell_type": "code",
   "execution_count": 456,
   "id": "c0e51e6e",
   "metadata": {},
   "outputs": [
    {
     "name": "stdout",
     "output_type": "stream",
     "text": [
      "('Xác định yêu cầu cụ thể của bài toán. Đầu vào là một list các features của '\n",
      " 'khu vực, bao gồm MedInc, HouseAge, AveRooms, AveBedrms, Population, '\n",
      " 'AveOccup, Latitude, Longitude. Đầu ra là nhãn của nhà ở khu vực đó thuộc về '\n",
      " \"một trong ba nhóm: 'low' (rẻ), 'medium' (trung bình), hay 'high' (đắt).\")\n"
     ]
    }
   ],
   "source": [
    "pprint.pprint(state['subtasks'].subtask_two)"
   ]
  },
  {
   "cell_type": "code",
   "execution_count": 457,
   "id": "e38609cd",
   "metadata": {},
   "outputs": [
    {
     "name": "stdout",
     "output_type": "stream",
     "text": [
      "('Xác định định dạng dữ liệu đầu vào. Dữ liệu đầu vào là một file test.csv, '\n",
      " 'mỗi hàng đại diện cho các features của một khu vực, bao gồm các cột: MedInc, '\n",
      " 'HouseAge, AveRooms, AveBedrms, Population, AveOccup, Latitude, Longitude, '\n",
      " 'ID.')\n"
     ]
    }
   ],
   "source": [
    "pprint.pprint(state['subtasks'].subtask_three)"
   ]
  },
  {
   "cell_type": "code",
   "execution_count": 458,
   "id": "9b1ddbc9",
   "metadata": {},
   "outputs": [
    {
     "name": "stdout",
     "output_type": "stream",
     "text": [
      "('Xác định định dạng kết quả đầu ra. Kết quả đầu ra là một file output.csv, '\n",
      " 'mỗi hàng đại diện cho kết quả dự đoán của một khu vực, bao gồm các cột: ID, '\n",
      " \"MedHouseVal với các nhãn 'low', 'medium', hay 'high'.\")\n"
     ]
    }
   ],
   "source": [
    "pprint.pprint(state['subtasks'].subtask_four)"
   ]
  },
  {
   "cell_type": "markdown",
   "id": "66ab3d7f",
   "metadata": {},
   "source": [
    "# Modeling Agent"
   ]
  },
  {
   "cell_type": "code",
   "execution_count": 459,
   "id": "f656ae15",
   "metadata": {},
   "outputs": [],
   "source": [
    "class ModelInfo(BaseModel):\n",
    "    model: str = Field(..., description=\"Model name\")\n",
    "    url: str = Field(..., description=\"URL to the model\")\n",
    "\n",
    "class ModelSelection(BaseModel):\n",
    "    models: List[ModelInfo] = Field(..., description=\"List of available models with name and URL\")"
   ]
  },
  {
   "cell_type": "code",
   "execution_count": 460,
   "id": "18dcc46c",
   "metadata": {},
   "outputs": [],
   "source": [
    "model_selection_parser = PydanticOutputParser(pydantic_object=ModelSelection)"
   ]
  },
  {
   "cell_type": "code",
   "execution_count": 461,
   "id": "de4ed792",
   "metadata": {},
   "outputs": [],
   "source": [
    "def model_selection_agent(state: AgentState):\n",
    "    system_prompt = \"\"\"\n",
    "                    You are a machine learning expert assigned to select the suitable model for a given task.\n",
    "                    Given:\n",
    "                    - A user description about the task\n",
    "                    - A list of available model (names and links)\n",
    "                    Your job is to choose ALL suitable models provided in the list for user's specific tasks.\n",
    "                    Return the answer in the format\n",
    "                    {structured_output}\n",
    "                    Here are the list of model:\n",
    "                    {model_list}\n",
    "                    \"\"\"\n",
    "    prompt = ChatPromptTemplate.from_messages([\n",
    "        (\"system\", system_prompt),\n",
    "        (\"user\", \"{input}\")\n",
    "    ]).partial(structured_output=model_selection_parser.get_format_instructions())\n",
    "\n",
    "    chain = prompt | llm | model_selection_parser\n",
    "\n",
    "    result = chain.invoke({\"input\": task, \"model_list\": format_model_list(df_model)})\n",
    "    return result"
   ]
  },
  {
   "cell_type": "code",
   "execution_count": 462,
   "id": "fd097a59",
   "metadata": {},
   "outputs": [
    {
     "name": "stderr",
     "output_type": "stream",
     "text": [
      "/tmp/ipykernel_14809/7332665.py:4: FutureWarning: Series.__getitem__ treating keys as positions is deprecated. In a future version, integer keys will always be treated as labels (consistent with DataFrame behavior). To access a value by position, use `ser.iloc[pos]`\n",
      "  desc = str(row[1]).replace(\"{\", \"{{\").replace(\"}\", \"}}\")\n",
      "/tmp/ipykernel_14809/7332665.py:5: FutureWarning: Series.__getitem__ treating keys as positions is deprecated. In a future version, integer keys will always be treated as labels (consistent with DataFrame behavior). To access a value by position, use `ser.iloc[pos]`\n",
      "  url = str(row[2])\n"
     ]
    }
   ],
   "source": [
    "res = model_selection_agent(state)"
   ]
  },
  {
   "cell_type": "code",
   "execution_count": 463,
   "id": "03a8819c",
   "metadata": {},
   "outputs": [
    {
     "name": "stdout",
     "output_type": "stream",
     "text": [
      "[ModelInfo(model='Dự đoán giá trung bình nhà ở các quận Cali', url='https://huggingface.co/zhaospei/Model_2')]\n"
     ]
    }
   ],
   "source": [
    "pprint.pprint(res.models)"
   ]
  },
  {
   "cell_type": "code",
   "execution_count": 464,
   "id": "3b0dc638",
   "metadata": {},
   "outputs": [],
   "source": [
    "def model_selection_using_tool_agent(state: AgentState):\n",
    "    system_prompt = \"\"\"\n",
    "                    You are a machine learning expert assigned to select the **Best-fit model** for a given task.\n",
    "                    Given:\n",
    "                    - A user task description\n",
    "                    - A list of available models (names and url)\n",
    "                    - A tool that fetches model details from a provided URL (it help gathers model description, input/output format, code sample usage)\n",
    "\n",
    "                    Your job is to:\n",
    "                    1. Use the **provided tool** to retrieve real details about each candidate model:\n",
    "                        - ✅ Model description\n",
    "                        - 📥 Input format\n",
    "                        - 📤 Output format\n",
    "                        - 🛠️ Library requirements\n",
    "                        - 🧪 Code sample (usage code snippet)\n",
    "                    2. Select the best model for user given task based on the data that the tool gives you.\n",
    "\n",
    "                    ⚠️ VERY IMPORTANT RULES\n",
    "\n",
    "                    - ❌ DO NOT assume or invent any part of the model's description, input/output format, or code\n",
    "                    - ❌ DO NOT generate fake code or use your own knowledge about the model\n",
    "                    - ✅ ONLY use the **actual output** returned from the tool\n",
    "                    - ✅ Include tool content in your final answer exactly as returned (especially code)\n",
    "\n",
    "                    ## 🧠 Output Structure (Final Answer)\n",
    "\n",
    "                    After retrieving tool results, choose ONE best-fit model and output the result in the following format:\n",
    "\n",
    "                    **✅ Model name and link**  \n",
    "                    `<model name>` — `<link>`\n",
    "\n",
    "                    **📝 Description (from tool):**  \n",
    "                    <model description>\n",
    "\n",
    "                    **📥 Input format (from tool):**  \n",
    "                    <description of expected input>\n",
    "\n",
    "                    **📤 Output format (from tool):**  \n",
    "                    <description of model output>\n",
    "\n",
    "                    **🛠️ Library Requirements (from tool) **\n",
    "                    <requirements to use the model>\n",
    "\n",
    "                    **🧪 Example code (from tool):**  \n",
    "                    ```python\n",
    "                    <exact code snippet from tool>\n",
    "\n",
    "                    Here are the list of models and there corresponding URL:\n",
    "                    {model_list}\n",
    "                    \"\"\"\n",
    "    prompt = ChatPromptTemplate.from_messages([\n",
    "        (\"system\", system_prompt),\n",
    "        (\"ai\", \"{agent_scratchpad}\"),\n",
    "        (\"human\", \"{input}\")\n",
    "    ])\n",
    "\n",
    "    agent = create_tool_calling_agent(llm=llm, tools=tools, prompt=prompt)\n",
    "    executor = AgentExecutor(agent=agent, tools=tools, verbose=True)\n",
    "    task_input = state[\"task\"].content if isinstance(state[\"task\"], SystemMessage) else state[\"task\"]\n",
    "\n",
    "    # result = executor.invoke({\"input\": task_input})\n",
    "    result = executor.invoke({\"input\": task_input, \"model_list\": res.models})\n",
    "\n",
    "    return {\"output\": result[\"output\"]}"
   ]
  },
  {
   "cell_type": "code",
   "execution_count": 465,
   "id": "e8b0f513",
   "metadata": {},
   "outputs": [
    {
     "name": "stdout",
     "output_type": "stream",
     "text": [
      "\n",
      "\n",
      "\u001b[1m> Entering new AgentExecutor chain...\u001b[0m\n",
      "\u001b[32;1m\u001b[1;3m\n",
      "Invoking: `web_scrapper` with `{'url': 'https://huggingface.co/zhaospei/Model_2'}`\n",
      "\n",
      "\n",
      "\u001b[0m\u001b[36;1m\u001b[1;3m\n",
      "🏠 Mô hình Wide & Deep Neural Network - Dự đoán Giá Nhà California\n",
      "📝 Mô tả\n",
      "Đây là một mô hình Wide & Deep Neural Network được huấn luyện trên tập dữ liệu California Housing để dự đoán giá nhà trung bình (MedHouseVal). Mô hình được xây dựng bằng PyTorch, dựa trên kiến trúc trong cuốn Hands-On Machine Learning with Scikit-Learn, Keras, and TensorFlow của Aurélien Géron.\n",
      "📌 Nhiệm vụ\n",
      "Dự đoán giá nhà dựa trên dữ liệu bảng (tabular regression) với 8 đặc trưng đầu vào.\n",
      "📥 Đầu vào\n",
      "Số chiều: [batch_size, 8] \n",
      "Kiểu dữ liệu: torch.FloatTensor \n",
      "Các đặc trưng đầu vào:\n",
      "'MedInc' – Thu nhập trung vị\n",
      "'HouseAge' – Tuổi trung bình của căn nhà\n",
      "'AveRooms' – Số phòng trung bình\n",
      "'AveBedrms' – Số phòng ngủ trung bình\n",
      "'Population' – Dân số\n",
      "'AveOccup' – Số người trung bình trên mỗi hộ\n",
      "'Latitude' – Vĩ độ\n",
      "'Longitude' – Kinh độ\n",
      "📤 Đầu ra\n",
      "Kiểu: torch.FloatTensor có shape [batch_size, 1] \n",
      "Ý nghĩa: Giá nhà trung bình dự đoán (giá trị thực).\n",
      "🧪 Cách sử dụng mô hình\n",
      "Dưới đây là ví dụ về cách sử dụng mô hình với dữ liệu đầu vào giả lập:\n",
      "import torch\n",
      "import torch.nn as nn\n",
      "from huggingface_hub import PyTorchModelHubMixin\n",
      "# Tạo dữ liệu đầu vào giả lập (batch 1, 8 features)\n",
      "x_input = torch.randn(1, 8)\n",
      "print(\"Mock input:\")\n",
      "print(x_input)\n",
      "# Định nghĩa mô hình Wide & Deep Neural Network\n",
      "class WideAndDeepNet(nn.Module, PyTorchModelHubMixin):\n",
      "    def __init__(self):\n",
      "        super().__init__()\n",
      "        self.hidden1 = nn.Linear(6, 30)\n",
      "        self.hidden2 = nn.Linear(30, 30)\n",
      "        self.main_head = nn.Linear(35, 1)\n",
      "        self.aux_head = nn.Linear(30, 1)\n",
      "        self.main_loss_fn = nn.MSELoss(reduction='sum')\n",
      "        self.aux_loss_fn = nn.MSELoss(reduction='sum')\n",
      "    def forward(self, input_wide, input_deep, label=None):\n",
      "        act = torch.relu(self.hidden1(input_deep))\n",
      "        act = torch.relu(self.hidden2(act))\n",
      "        concat = torch.cat([input_wide, act], dim=1)\n",
      "        main_output = self.main_head(concat)\n",
      "        aux_output = self.aux_head(act)\n",
      "        if label is not None:\n",
      "            main_loss = self.main_loss_fn(main_output.squeeze(), label)\n",
      "            aux_loss = self.aux_loss_fn(aux_output.squeeze(), label)\n",
      "        return WideAndDeepNetOutput(main_output=main_output, aux_output=aux_output)\n",
      "# Tải mô hình từ Hugging Face Hub\n",
      "model = WideAndDeepNet.from_pretrained(\"sadhaklal/wide-and-deep-net-california-housing-v3\")\n",
      "model.eval()\n",
      "# Dự đoán với mô hình\n",
      "with torch.no_grad():\n",
      "    prediction = model(x_input)\n",
      "print(f\"Giá nhà dự đoán (mock input): {prediction.item():.3f}\")\n",
      "\u001b[0m\u001b[32;1m\u001b[1;3m\n",
      "Invoking: `web_scrapper` with `{'url': 'https://huggingface.co/zhaospei/Model_2'}`\n",
      "\n",
      "\n",
      "\u001b[0m\u001b[36;1m\u001b[1;3m\n",
      "🏠 Mô hình Wide & Deep Neural Network - Dự đoán Giá Nhà California\n",
      "📝 Mô tả\n",
      "Đây là một mô hình Wide & Deep Neural Network được huấn luyện trên tập dữ liệu California Housing để dự đoán giá nhà trung bình (MedHouseVal). Mô hình được xây dựng bằng PyTorch, dựa trên kiến trúc trong cuốn Hands-On Machine Learning with Scikit-Learn, Keras, and TensorFlow của Aurélien Géron.\n",
      "📌 Nhiệm vụ\n",
      "Dự đoán giá nhà dựa trên dữ liệu bảng (tabular regression) với 8 đặc trưng đầu vào.\n",
      "📥 Đầu vào\n",
      "Số chiều: [batch_size, 8] \n",
      "Kiểu dữ liệu: torch.FloatTensor \n",
      "Các đặc trưng đầu vào:\n",
      "'MedInc' – Thu nhập trung vị\n",
      "'HouseAge' – Tuổi trung bình của căn nhà\n",
      "'AveRooms' – Số phòng trung bình\n",
      "'AveBedrms' – Số phòng ngủ trung bình\n",
      "'Population' – Dân số\n",
      "'AveOccup' – Số người trung bình trên mỗi hộ\n",
      "'Latitude' – Vĩ độ\n",
      "'Longitude' – Kinh độ\n",
      "📤 Đầu ra\n",
      "Kiểu: torch.FloatTensor có shape [batch_size, 1] \n",
      "Ý nghĩa: Giá nhà trung bình dự đoán (giá trị thực).\n",
      "🧪 Cách sử dụng mô hình\n",
      "Dưới đây là ví dụ về cách sử dụng mô hình với dữ liệu đầu vào giả lập:\n",
      "import torch\n",
      "import torch.nn as nn\n",
      "from huggingface_hub import PyTorchModelHubMixin\n",
      "# Tạo dữ liệu đầu vào giả lập (batch 1, 8 features)\n",
      "x_input = torch.randn(1, 8)\n",
      "print(\"Mock input:\")\n",
      "print(x_input)\n",
      "# Định nghĩa mô hình Wide & Deep Neural Network\n",
      "class WideAndDeepNet(nn.Module, PyTorchModelHubMixin):\n",
      "    def __init__(self):\n",
      "        super().__init__()\n",
      "        self.hidden1 = nn.Linear(6, 30)\n",
      "        self.hidden2 = nn.Linear(30, 30)\n",
      "        self.main_head = nn.Linear(35, 1)\n",
      "        self.aux_head = nn.Linear(30, 1)\n",
      "        self.main_loss_fn = nn.MSELoss(reduction='sum')\n",
      "        self.aux_loss_fn = nn.MSELoss(reduction='sum')\n",
      "    def forward(self, input_wide, input_deep, label=None):\n",
      "        act = torch.relu(self.hidden1(input_deep))\n",
      "        act = torch.relu(self.hidden2(act))\n",
      "        concat = torch.cat([input_wide, act], dim=1)\n",
      "        main_output = self.main_head(concat)\n",
      "        aux_output = self.aux_head(act)\n",
      "        if label is not None:\n",
      "            main_loss = self.main_loss_fn(main_output.squeeze(), label)\n",
      "            aux_loss = self.aux_loss_fn(aux_output.squeeze(), label)\n",
      "        return WideAndDeepNetOutput(main_output=main_output, aux_output=aux_output)\n",
      "# Tải mô hình từ Hugging Face Hub\n",
      "model = WideAndDeepNet.from_pretrained(\"sadhaklal/wide-and-deep-net-california-housing-v3\")\n",
      "model.eval()\n",
      "# Dự đoán với mô hình\n",
      "with torch.no_grad():\n",
      "    prediction = model(x_input)\n",
      "print(f\"Giá nhà dự đoán (mock input): {prediction.item():.3f}\")\n",
      "\u001b[0m\u001b[32;1m\u001b[1;3m**✅ Model name and link**  \n",
      " `Dự đoán giá trung bình nhà ở các quận Cali` — `https://huggingface.co/zhaospei/Model_2`\n",
      "\n",
      " **📝 Description (from tool):**  \n",
      " Đây là một mô hình Wide & Deep Neural Network được huấn luyện trên tập dữ liệu California Housing để dự đoán giá nhà trung bình (MedHouseVal). Mô hình được xây dựng bằng PyTorch, dựa trên kiến trúc trong cuốn Hands-On Machine Learning with Scikit-Learn, Keras, and TensorFlow của Aurélien Géron.\n",
      "\n",
      " **📥 Input format (from tool):**  \n",
      " Số chiều: [batch_size,8] \n",
      " Kiểu dữ liệu: torch.FloatTensor \n",
      " Các đặc trưng đầu vào:\n",
      " - 'MedInc' – Thu nhập trung vị\n",
      " - 'HouseAge' – Tuổi trung bình của căn nhà\n",
      " - 'AveRooms' – Số phòng trung bình\n",
      " - 'AveBedrms' – Số phòng ngủ trung bình\n",
      " - 'Population' – Dân số\n",
      " - 'AveOccup' – Số người trung bình trên mỗi hộ\n",
      " - 'Latitude' – Vĩ độ\n",
      " - 'Longitude' – Kinh độ\n",
      "\n",
      " **📤 Output format (from tool):**  \n",
      " Kiểu: torch.FloatTensor có shape [batch_size,1] \n",
      " Ý nghĩa: Giá nhà trung bình dự đoán (giá trị thực).\n",
      "\n",
      " **🛠️ Library Requirements (from tool) ** \n",
      " None\n",
      "\n",
      " **🧪 Example code (from tool):**  \n",
      " ```python\n",
      "import torch\n",
      "import torch.nn as nn\n",
      "from huggingface_hub import PyTorchModelHubMixin\n",
      "\n",
      "# Tạo dữ liệu đầu vào giả lập (batch1,8 features)\n",
      "x_input = torch.randn(1,8)\n",
      "print(\"Mock input:\")\n",
      "print(x_input)\n",
      "\n",
      "# Định nghĩa mô hình Wide & Deep Neural Network\n",
      "class WideAndDeepNet(nn.Module, PyTorchModelHubMixin):\n",
      " def __init__(self):\n",
      " super().__init__()\n",
      " self.hidden1 = nn.Linear(6,30)\n",
      " self.hidden2 = nn.Linear(30,30)\n",
      " self.main_head = nn.Linear(35,1)\n",
      " self.aux_head = nn.Linear(30,1)\n",
      " self.main_loss_fn = nn.MSELoss(reduction='sum')\n",
      " self.aux_loss_fn = nn.MSELoss(reduction='sum')\n",
      "\n",
      " def forward(self, input_wide, input_deep, label=None):\n",
      " act = torch.relu(self.hidden1(input_deep))\n",
      " act = torch.relu(self.hidden2(act))\n",
      " concat = torch.cat([input_wide, act], dim=1)\n",
      " main_output = self.main_head(concat)\n",
      " aux_output = self.aux_head(act)\n",
      " if label is not None:\n",
      " main_loss = self.main_loss_fn(main_output.squeeze(), label)\n",
      " aux_loss = self.aux_loss_fn(aux_output.squeeze(), label)\n",
      " return WideAndDeepNetOutput(main_output=main_output, aux_output=aux_output)\n",
      "\n",
      "# Tải mô hình từ Hugging Face Hub\n",
      "model = WideAndDeepNet.from_pretrained(\"sadhaklal/wide-and-deep-net-california-housing-v3\")\n",
      "model.eval()\n",
      "\n",
      "# Dự đoán với mô hình\n",
      "with torch.no_grad():\n",
      " prediction = model(x_input)\n",
      "print(f\"Giá nhà dự đoán (mock input): {prediction.item():.3f}\")\n",
      "```\u001b[0m\n",
      "\n",
      "\u001b[1m> Finished chain.\u001b[0m\n"
     ]
    }
   ],
   "source": [
    "res2 = model_selection_using_tool_agent(state)"
   ]
  },
  {
   "cell_type": "code",
   "execution_count": 466,
   "id": "cb681a0d",
   "metadata": {},
   "outputs": [
    {
     "name": "stdout",
     "output_type": "stream",
     "text": [
      "('**✅ Model name and link**  \\n'\n",
      " ' `Dự đoán giá trung bình nhà ở các quận Cali` — '\n",
      " '`https://huggingface.co/zhaospei/Model_2`\\n'\n",
      " '\\n'\n",
      " ' **📝 Description (from tool):**  \\n'\n",
      " ' Đây là một mô hình Wide & Deep Neural Network được huấn luyện trên tập dữ '\n",
      " 'liệu California Housing để dự đoán giá nhà trung bình (MedHouseVal). Mô hình '\n",
      " 'được xây dựng bằng PyTorch, dựa trên kiến trúc trong cuốn Hands-On Machine '\n",
      " 'Learning with Scikit-Learn, Keras, and TensorFlow của Aurélien Géron.\\n'\n",
      " '\\n'\n",
      " ' **📥 Input format (from tool):**  \\n'\n",
      " ' Số chiều: [batch_size,8] \\n'\n",
      " ' Kiểu dữ liệu: torch.FloatTensor \\n'\n",
      " ' Các đặc trưng đầu vào:\\n'\n",
      " \" - 'MedInc' – Thu nhập trung vị\\n\"\n",
      " \" - 'HouseAge' – Tuổi trung bình của căn nhà\\n\"\n",
      " \" - 'AveRooms' – Số phòng trung bình\\n\"\n",
      " \" - 'AveBedrms' – Số phòng ngủ trung bình\\n\"\n",
      " \" - 'Population' – Dân số\\n\"\n",
      " \" - 'AveOccup' – Số người trung bình trên mỗi hộ\\n\"\n",
      " \" - 'Latitude' – Vĩ độ\\n\"\n",
      " \" - 'Longitude' – Kinh độ\\n\"\n",
      " '\\n'\n",
      " ' **📤 Output format (from tool):**  \\n'\n",
      " ' Kiểu: torch.FloatTensor có shape [batch_size,1] \\n'\n",
      " ' Ý nghĩa: Giá nhà trung bình dự đoán (giá trị thực).\\n'\n",
      " '\\n'\n",
      " ' **🛠️ Library Requirements (from tool) ** \\n'\n",
      " ' None\\n'\n",
      " '\\n'\n",
      " ' **🧪 Example code (from tool):**  \\n'\n",
      " ' ```python\\n'\n",
      " 'import torch\\n'\n",
      " 'import torch.nn as nn\\n'\n",
      " 'from huggingface_hub import PyTorchModelHubMixin\\n'\n",
      " '\\n'\n",
      " '# Tạo dữ liệu đầu vào giả lập (batch1,8 features)\\n'\n",
      " 'x_input = torch.randn(1,8)\\n'\n",
      " 'print(\"Mock input:\")\\n'\n",
      " 'print(x_input)\\n'\n",
      " '\\n'\n",
      " '# Định nghĩa mô hình Wide & Deep Neural Network\\n'\n",
      " 'class WideAndDeepNet(nn.Module, PyTorchModelHubMixin):\\n'\n",
      " ' def __init__(self):\\n'\n",
      " ' super().__init__()\\n'\n",
      " ' self.hidden1 = nn.Linear(6,30)\\n'\n",
      " ' self.hidden2 = nn.Linear(30,30)\\n'\n",
      " ' self.main_head = nn.Linear(35,1)\\n'\n",
      " ' self.aux_head = nn.Linear(30,1)\\n'\n",
      " \" self.main_loss_fn = nn.MSELoss(reduction='sum')\\n\"\n",
      " \" self.aux_loss_fn = nn.MSELoss(reduction='sum')\\n\"\n",
      " '\\n'\n",
      " ' def forward(self, input_wide, input_deep, label=None):\\n'\n",
      " ' act = torch.relu(self.hidden1(input_deep))\\n'\n",
      " ' act = torch.relu(self.hidden2(act))\\n'\n",
      " ' concat = torch.cat([input_wide, act], dim=1)\\n'\n",
      " ' main_output = self.main_head(concat)\\n'\n",
      " ' aux_output = self.aux_head(act)\\n'\n",
      " ' if label is not None:\\n'\n",
      " ' main_loss = self.main_loss_fn(main_output.squeeze(), label)\\n'\n",
      " ' aux_loss = self.aux_loss_fn(aux_output.squeeze(), label)\\n'\n",
      " ' return WideAndDeepNetOutput(main_output=main_output, '\n",
      " 'aux_output=aux_output)\\n'\n",
      " '\\n'\n",
      " '# Tải mô hình từ Hugging Face Hub\\n'\n",
      " 'model = '\n",
      " 'WideAndDeepNet.from_pretrained(\"sadhaklal/wide-and-deep-net-california-housing-v3\")\\n'\n",
      " 'model.eval()\\n'\n",
      " '\\n'\n",
      " '# Dự đoán với mô hình\\n'\n",
      " 'with torch.no_grad():\\n'\n",
      " ' prediction = model(x_input)\\n'\n",
      " 'print(f\"Giá nhà dự đoán (mock input): {prediction.item():.3f}\")\\n'\n",
      " '```')\n"
     ]
    }
   ],
   "source": [
    "pprint.pprint(res2['output'])"
   ]
  },
  {
   "cell_type": "markdown",
   "id": "2874a1c7",
   "metadata": {},
   "source": [
    "## Output Parser Agent"
   ]
  },
  {
   "cell_type": "code",
   "execution_count": 467,
   "id": "3658cfca",
   "metadata": {},
   "outputs": [],
   "source": [
    "class ModelingOutput(BaseModel):\n",
    "    model_description: str = Field(\n",
    "        ...,\n",
    "        description=\"The detailed description of the model.\"\n",
    "    )\n",
    "    model_input_format: str = Field(\n",
    "        ...,\n",
    "        description=\"Model's detailed input format\"\n",
    "    )\n",
    "    model_output_format: str = Field(\n",
    "        ...,\n",
    "        description=\"Model's detailed output format\"\n",
    "    )\n",
    "    model_requirements: str = Field(\n",
    "        ...,\n",
    "        description=\"Requirement libraries need to install to use the model.\"\n",
    "    )\n",
    "    model_sample_code: str = Field(\n",
    "        ...,\n",
    "        description=\"Example code to use the model\"\n",
    "    )"
   ]
  },
  {
   "cell_type": "code",
   "execution_count": 468,
   "id": "0b610e37",
   "metadata": {},
   "outputs": [],
   "source": [
    "parser = PydanticOutputParser(pydantic_object=ModelingOutput)"
   ]
  },
  {
   "cell_type": "code",
   "execution_count": 469,
   "id": "707428ff",
   "metadata": {},
   "outputs": [],
   "source": [
    "output_parser_llm = ChatOpenAI(\n",
    "    base_url=BASE_URL,\n",
    "    model=MODEL,\n",
    "    api_key=OPENAI_API_KEY,\n",
    "    temperature=0\n",
    ")"
   ]
  },
  {
   "cell_type": "code",
   "execution_count": 470,
   "id": "5a1f51e1",
   "metadata": {},
   "outputs": [],
   "source": [
    "def output_parser_agent(state: AgentState):\n",
    "    system_prompt = \"\"\"\n",
    "                    You are a smart AI tasked with extracting structured technical details about a machine learning model from a reasoning result.\n",
    "                    You are given a detailed text description about a model.\n",
    "                    Your goal is to fill the following fields based on the text:\n",
    "\n",
    "                    - `model_description`: A detailed explanation of what the model is and what it does.\n",
    "                    - `model_input_format`: A detailed description of the model's input format, including dimensions, data types, and expected preprocessing if mentioned.\n",
    "                    - `model_output_format`: A detailed description of the output format including dimensions, data types, label name and its meaning.\n",
    "                    - `model_requirements`: A detailed description about the requirements needed to be sastified in order to use the model\n",
    "                    - `model_sample_code`: A sample code on how to use the model.\n",
    "\n",
    "                    You MUSTN'T create any data on your own, only using the data provided in the text.\n",
    "\n",
    "                    Return the data as a JSON object matching the following structure:\n",
    "                    {formatted_output}\n",
    "                    \"\"\"\n",
    "    prompt = ChatPromptTemplate.from_messages([\n",
    "        ('system', system_prompt),\n",
    "        ('human', \"{input}\")\n",
    "    ]).partial(formatted_output=parser.get_format_instructions())\n",
    "    chain = prompt | llm | parser\n",
    "    response = chain.invoke({\"input\": res2['output']})\n",
    "    return response"
   ]
  },
  {
   "cell_type": "code",
   "execution_count": 471,
   "id": "0d82f96e",
   "metadata": {},
   "outputs": [],
   "source": [
    "ans = output_parser_agent(state)"
   ]
  },
  {
   "cell_type": "code",
   "execution_count": 472,
   "id": "583a7bd1",
   "metadata": {},
   "outputs": [
    {
     "name": "stdout",
     "output_type": "stream",
     "text": [
      "('**✅ Model name and link**  \\n'\n",
      " ' `Dự đoán giá trung bình nhà ở các quận Cali` — '\n",
      " '`https://huggingface.co/zhaospei/Model_2`\\n'\n",
      " '\\n'\n",
      " ' **📝 Description (from tool):**  \\n'\n",
      " ' Đây là một mô hình Wide & Deep Neural Network được huấn luyện trên tập dữ '\n",
      " 'liệu California Housing để dự đoán giá nhà trung bình (MedHouseVal). Mô hình '\n",
      " 'được xây dựng bằng PyTorch, dựa trên kiến trúc trong cuốn Hands-On Machine '\n",
      " 'Learning with Scikit-Learn, Keras, and TensorFlow của Aurélien Géron.\\n'\n",
      " '\\n'\n",
      " ' **📥 Input format (from tool):**  \\n'\n",
      " ' Số chiều: [batch_size,8] \\n'\n",
      " ' Kiểu dữ liệu: torch.FloatTensor \\n'\n",
      " ' Các đặc trưng đầu vào:\\n'\n",
      " \" - 'MedInc' – Thu nhập trung vị\\n\"\n",
      " \" - 'HouseAge' – Tuổi trung bình của căn nhà\\n\"\n",
      " \" - 'AveRooms' – Số phòng trung bình\\n\"\n",
      " \" - 'AveBedrms' – Số phòng ngủ trung bình\\n\"\n",
      " \" - 'Population' – Dân số\\n\"\n",
      " \" - 'AveOccup' – Số người trung bình trên mỗi hộ\\n\"\n",
      " \" - 'Latitude' – Vĩ độ\\n\"\n",
      " \" - 'Longitude' – Kinh độ\\n\"\n",
      " '\\n'\n",
      " ' **📤 Output format (from tool):**  \\n'\n",
      " ' Kiểu: torch.FloatTensor có shape [batch_size,1] \\n'\n",
      " ' Ý nghĩa: Giá nhà trung bình dự đoán (giá trị thực).\\n'\n",
      " '\\n'\n",
      " ' **🛠️ Library Requirements (from tool) ** \\n'\n",
      " ' None\\n'\n",
      " '\\n'\n",
      " ' **🧪 Example code (from tool):**  \\n'\n",
      " ' ```python\\n'\n",
      " 'import torch\\n'\n",
      " 'import torch.nn as nn\\n'\n",
      " 'from huggingface_hub import PyTorchModelHubMixin\\n'\n",
      " '\\n'\n",
      " '# Tạo dữ liệu đầu vào giả lập (batch1,8 features)\\n'\n",
      " 'x_input = torch.randn(1,8)\\n'\n",
      " 'print(\"Mock input:\")\\n'\n",
      " 'print(x_input)\\n'\n",
      " '\\n'\n",
      " '# Định nghĩa mô hình Wide & Deep Neural Network\\n'\n",
      " 'class WideAndDeepNet(nn.Module, PyTorchModelHubMixin):\\n'\n",
      " ' def __init__(self):\\n'\n",
      " ' super().__init__()\\n'\n",
      " ' self.hidden1 = nn.Linear(6,30)\\n'\n",
      " ' self.hidden2 = nn.Linear(30,30)\\n'\n",
      " ' self.main_head = nn.Linear(35,1)\\n'\n",
      " ' self.aux_head = nn.Linear(30,1)\\n'\n",
      " \" self.main_loss_fn = nn.MSELoss(reduction='sum')\\n\"\n",
      " \" self.aux_loss_fn = nn.MSELoss(reduction='sum')\\n\"\n",
      " '\\n'\n",
      " ' def forward(self, input_wide, input_deep, label=None):\\n'\n",
      " ' act = torch.relu(self.hidden1(input_deep))\\n'\n",
      " ' act = torch.relu(self.hidden2(act))\\n'\n",
      " ' concat = torch.cat([input_wide, act], dim=1)\\n'\n",
      " ' main_output = self.main_head(concat)\\n'\n",
      " ' aux_output = self.aux_head(act)\\n'\n",
      " ' if label is not None:\\n'\n",
      " ' main_loss = self.main_loss_fn(main_output.squeeze(), label)\\n'\n",
      " ' aux_loss = self.aux_loss_fn(aux_output.squeeze(), label)\\n'\n",
      " ' return WideAndDeepNetOutput(main_output=main_output, '\n",
      " 'aux_output=aux_output)\\n'\n",
      " '\\n'\n",
      " '# Tải mô hình từ Hugging Face Hub\\n'\n",
      " 'model = '\n",
      " 'WideAndDeepNet.from_pretrained(\"sadhaklal/wide-and-deep-net-california-housing-v3\")\\n'\n",
      " 'model.eval()\\n'\n",
      " '\\n'\n",
      " '# Dự đoán với mô hình\\n'\n",
      " 'with torch.no_grad():\\n'\n",
      " ' prediction = model(x_input)\\n'\n",
      " 'print(f\"Giá nhà dự đoán (mock input): {prediction.item():.3f}\")\\n'\n",
      " '```')\n"
     ]
    }
   ],
   "source": [
    "pprint.pprint(res2['output'])"
   ]
  },
  {
   "cell_type": "code",
   "execution_count": 473,
   "id": "530f5c1c",
   "metadata": {},
   "outputs": [
    {
     "name": "stdout",
     "output_type": "stream",
     "text": [
      "('Đây là một mô hình Wide & Deep Neural Network được huấn luyện trên tập dữ '\n",
      " 'liệu California Housing để dự đoán giá nhà trung bình (MedHouseVal). Mô hình '\n",
      " 'được xây dựng bằng PyTorch, dựa trên kiến trúc trong cuốn Hands-On Machine '\n",
      " 'Learning with Scikit-Learn, Keras, and TensorFlow của Aurélien Géron.')\n",
      "('Số chiều: [batch_size,8]\\n'\n",
      " 'Kiểu dữ liệu: torch.FloatTensor\\n'\n",
      " 'Các đặc trưng đầu vào:\\n'\n",
      " \"- 'MedInc' – Thu nhập trung vị\\n\"\n",
      " \"- 'HouseAge' – Tuổi trung bình của căn nhà\\n\"\n",
      " \"- 'AveRooms' – Số phòng trung bình\\n\"\n",
      " \"- 'AveBedrms' – Số phòng ngủ trung bình\\n\"\n",
      " \"- 'Population' – Dân số\\n\"\n",
      " \"- 'AveOccup' – Số người trung bình trên mỗi hộ\\n\"\n",
      " \"- 'Latitude' – Vĩ độ\\n\"\n",
      " \"- 'Longitude' – Kinh độ\")\n",
      "('Kiểu: torch.FloatTensor có shape [batch_size,1]\\n'\n",
      " 'Ý nghĩa: Giá nhà trung bình dự đoán (giá trị thực).')\n",
      "'None'\n",
      "('import torch\\n'\n",
      " 'import torch.nn as nn\\n'\n",
      " 'from huggingface_hub import PyTorchModelHubMixin\\n'\n",
      " '\\n'\n",
      " '# Tạo dữ liệu đầu vào giả lập (batch1,8 features)\\n'\n",
      " 'x_input = torch.randn(1,8)\\n'\n",
      " 'print(\"Mock input:\")\\n'\n",
      " 'print(x_input)\\n'\n",
      " '\\n'\n",
      " '# Định nghĩa mô hình Wide & Deep Neural Network\\n'\n",
      " 'class WideAndDeepNet(nn.Module, PyTorchModelHubMixin):\\n'\n",
      " ' def __init__(self):\\n'\n",
      " ' super().__init__()\\n'\n",
      " ' self.hidden1 = nn.Linear(6,30)\\n'\n",
      " ' self.hidden2 = nn.Linear(30,30)\\n'\n",
      " ' self.main_head = nn.Linear(35,1)\\n'\n",
      " ' self.aux_head = nn.Linear(30,1)\\n'\n",
      " \" self.main_loss_fn = nn.MSELoss(reduction='sum')\\n\"\n",
      " \" self.aux_loss_fn = nn.MSELoss(reduction='sum')\\n\"\n",
      " '\\n'\n",
      " ' def forward(self, input_wide, input_deep, label=None):\\n'\n",
      " ' act = torch.relu(self.hidden1(input_deep))\\n'\n",
      " ' act = torch.relu(self.hidden2(act))\\n'\n",
      " ' concat = torch.cat([input_wide, act], dim=1)\\n'\n",
      " ' main_output = self.main_head(concat)\\n'\n",
      " ' aux_output = self.aux_head(act)\\n'\n",
      " ' if label is not None:\\n'\n",
      " ' main_loss = self.main_loss_fn(main_output.squeeze(), label)\\n'\n",
      " ' aux_loss = self.aux_loss_fn(aux_output.squeeze(), label)\\n'\n",
      " ' return WideAndDeepNetOutput(main_output=main_output, '\n",
      " 'aux_output=aux_output)\\n'\n",
      " '\\n'\n",
      " '# Tải mô hình từ Hugging Face Hub\\n'\n",
      " 'model = '\n",
      " 'WideAndDeepNet.from_pretrained(\"sadhaklal/wide-and-deep-net-california-housing-v3\")\\n'\n",
      " 'model.eval()\\n'\n",
      " '\\n'\n",
      " '# Dự đoán với mô hình\\n'\n",
      " 'with torch.no_grad():\\n'\n",
      " ' prediction = model(x_input)\\n'\n",
      " 'print(f\"Giá nhà dự đoán (mock input): {prediction.item():.3f}\")')\n"
     ]
    }
   ],
   "source": [
    "pprint.pprint(ans.model_description)\n",
    "pprint.pprint(ans.model_input_format)\n",
    "pprint.pprint(ans.model_output_format)\n",
    "pprint.pprint(ans.model_requirements)\n",
    "pprint.pprint(ans.model_sample_code)"
   ]
  },
  {
   "cell_type": "code",
   "execution_count": 474,
   "id": "77a72e28",
   "metadata": {},
   "outputs": [],
   "source": [
    "def format_model_list(df):\n",
    "    model_strings = []\n",
    "    for i, row in df.iterrows():\n",
    "        desc = str(row[1]).replace(\"{\", \"{{\").replace(\"}\", \"}}\")\n",
    "        url = str(row[2])\n",
    "        model_strings.append(f\"{i + 1} - {desc} [More info]({url})\")\n",
    "    return \"\\n\".join(model_strings)\n"
   ]
  },
  {
   "cell_type": "code",
   "execution_count": 475,
   "id": "3643728a",
   "metadata": {},
   "outputs": [],
   "source": [
    "class AgentCodingState(TypedDict):\n",
    "    problem_description: str | None\n",
    "    problem_input_description: str | None\n",
    "    problem_output_description: str | None\n",
    "    model_description: str | None\n",
    "    model_input_format: str | None\n",
    "    model_output_format: str | None\n",
    "    model_requirements: str | None\n",
    "    model_sample_code: str | None\n",
    "    output_classes: str | None\n",
    "    code: str | None\n"
   ]
  },
  {
   "cell_type": "code",
   "execution_count": 476,
   "id": "fbc5157e",
   "metadata": {},
   "outputs": [],
   "source": [
    "base_prompt = r\"\"\"\n",
    "    You are a specialist in Machine Learning. Your task is to generate a *fully functional with all necessary imports and dependencies* codebase in *Python* that can be executed flawlessly.\n",
    "\n",
    "    You will be provided with:\n",
    "    - A problem description\n",
    "    - An input specification\n",
    "    - An output specification\n",
    "    - A model description\n",
    "\n",
    "    ### Input:\n",
    "    - Problem description: {problem_description}\n",
    "    - Problem input specification: {problem_input_description}\n",
    "    - Problem output specification: {problem_output_description}\n",
    "    - ML model description: {model_description}\n",
    "    - ML model input format: {model_input_format}\n",
    "    - ML model output format: {model_output_format}\n",
    "    - ML model requirements: {model_requirements}\n",
    "    - ML model sample code: {model_sample_code}\n",
    "    - Output classes: {output_classes}\n",
    "\n",
    "    ### Guidelines\n",
    "\n",
    "    You *must* strictly follow the following guidelines:\n",
    "    - The preprocessing step should be suitable for the data type.\n",
    "    - The postprocessing step should notices the differences between the data returned by the model and the output requirements. You must extract and use the exact class labels as defined in the output specification.\n",
    "    - Do *not invent new labels or translate* the class names. Use them exactly as given.\n",
    "    - You *must* make sure that your codebase can be executed flawlessly that would not encounter any errors or exceptions.\n",
    "\n",
    "    Your implementation *must strictly follow* the structure below:\n",
    "    1. *Imports*: All required libraries.\n",
    "    2. *Preprocessing*: Handle and transform the input as defined.\n",
    "    3. *Inference logic*: Use the described model for prediction. You *must* use tqdm or similar logging library to track progress.\n",
    "    4. *Postprocessing*: Format or transform the raw output into the final result as described.\n",
    "\n",
    "    You must *not* include any explanations, markdown, or logging outside what is required by the problem.\n",
    "\n",
    "    Return *only* the complete Python codebase, and you **MUST NOT** include a main function in any way. Wrap it with:\n",
    "    \\`\\`\\`python\n",
    "    # code here\n",
    "    \\`\\`\\`\n",
    "    \"\"\"\n"
   ]
  },
  {
   "cell_type": "code",
   "execution_count": 477,
   "id": "ad8e05be",
   "metadata": {},
   "outputs": [],
   "source": [
    "class OutputState(TypedDict):\n",
    "    output_classes: str | None"
   ]
  },
  {
   "cell_type": "code",
   "execution_count": 478,
   "id": "c4731165",
   "metadata": {},
   "outputs": [],
   "source": [
    "def output_agent(state: OutputState) -> OutputState:\n",
    "    prompt = r\"\"\"\n",
    "        Your are a specialist in machine learning. Your task is to identify the absolute classes of the given problem description, following with an output description.\n",
    "        ### Input:\n",
    "        - Problem description: {problem_description}\n",
    "        - Output description: {output_description}\n",
    "\n",
    "        You must return an array, strictly following these guidelines:\n",
    "        - Understand the context from the given problem description.\n",
    "        - Extract the class names from the output description. You **must not** invent new labels or translate the class names. Use them exactly as given in the output description.\n",
    "        - Create an array containing the classes.\n",
    "\n",
    "        You must return only the array containing those classes, without any formatting.\n",
    "    \"\"\"\n",
    "\n",
    "    prompt = prompt.format(\n",
    "        problem_description = state[\"problem_description\"],\n",
    "        output_description = state[\"output_description\"]\n",
    "    )\n",
    "    response = llm.invoke(prompt)\n",
    "    return {**state, \"output_classes\": response.content}"
   ]
  },
  {
   "cell_type": "code",
   "execution_count": 479,
   "id": "3895d41b",
   "metadata": {},
   "outputs": [],
   "source": [
    "output_state = {\n",
    "    \"problem_description\": task,\n",
    "    \"output_description\": state[\"subtasks\"].subtask_four\n",
    "}"
   ]
  },
  {
   "cell_type": "code",
   "execution_count": 480,
   "id": "6a52076a",
   "metadata": {},
   "outputs": [],
   "source": [
    "new_state = output_agent(output_state)"
   ]
  },
  {
   "cell_type": "code",
   "execution_count": 481,
   "id": "72a9f7bc",
   "metadata": {},
   "outputs": [
    {
     "data": {
      "text/plain": [
       "'low, medium, high'"
      ]
     },
     "execution_count": 481,
     "metadata": {},
     "output_type": "execute_result"
    }
   ],
   "source": [
    "new_state[\"output_classes\"]"
   ]
  },
  {
   "cell_type": "code",
   "execution_count": 482,
   "id": "c3313114",
   "metadata": {},
   "outputs": [],
   "source": [
    "def coding_agent(state: AgentCodingState) -> AgentCodingState:\n",
    "    prompt = base_prompt.format(\n",
    "        problem_description=state[\"problem_description\"],\n",
    "        problem_input_description=state[\"problem_input_description\"],\n",
    "        problem_output_description=state[\"problem_output_description\"],\n",
    "        model_description=state[\"model_description\"],\n",
    "        model_input_format=state[\"model_input_format\"],\n",
    "        model_output_format=state[\"model_output_format\"],\n",
    "        model_requirements=state[\"model_requirements\"],\n",
    "        model_sample_code=state[\"model_sample_code\"],\n",
    "        output_classes=state[\"output_classes\"],\n",
    "    )\n",
    "    response = llm.invoke(prompt)\n",
    "    return {**state, \"code\": response.content}"
   ]
  },
  {
   "cell_type": "code",
   "execution_count": 483,
   "id": "d80aeddc",
   "metadata": {},
   "outputs": [],
   "source": [
    "prev_state = {\n",
    "    \"problem_description\": task,\n",
    "    \"problem_input_description\": state[\"subtasks\"].subtask_three,\n",
    "    \"problem_output_description\": state[\"subtasks\"].subtask_four,\n",
    "    \"model_description\": res2['output'],\n",
    "    \"model_input_format\": ans.model_input_format,\n",
    "    \"model_output_format\": ans.model_output_format,\n",
    "    \"model_requirements\": ans.model_requirements,\n",
    "    \"model_sample_code\": ans.model_sample_code,\n",
    "    \"output_classes\": new_state[\"output_classes\"]\n",
    "}\n"
   ]
  },
  {
   "cell_type": "code",
   "execution_count": 484,
   "id": "d6a56d49",
   "metadata": {},
   "outputs": [],
   "source": [
    "coding_state = coding_agent(prev_state)"
   ]
  },
  {
   "cell_type": "code",
   "execution_count": 485,
   "id": "15ad0a28",
   "metadata": {},
   "outputs": [
    {
     "name": "stdout",
     "output_type": "stream",
     "text": [
      "```python\n",
      "import pandas as pd\n",
      "import torch\n",
      "from huggingface_hub import PyTorchModelHubMixin\n",
      "import torch.nn as nn\n",
      "\n",
      "# Định nghĩa mô hình Wide & Deep Neural Network\n",
      "class WideAndDeepNet(nn.Module, PyTorchModelHubMixin):\n",
      "    def __init__(self):\n",
      "        super().__init__()\n",
      "        self.hidden1 = nn.Linear(8, 30) # Sửa input size từ 6 thành 8\n",
      "        self.hidden2 = nn.Linear(30, 30)\n",
      "        self.main_head = nn.Linear(30, 1) # Sửa input size từ 35 thành 30\n",
      "        self.aux_head = nn.Linear(30, 1)\n",
      "        self.main_loss_fn = nn.MSELoss(reduction='sum')\n",
      "        self.aux_loss_fn = nn.MSELoss(reduction='sum')\n",
      "\n",
      "    def forward(self, input_deep, label=None):\n",
      "        act = torch.relu(self.hidden1(input_deep))\n",
      "        act = torch.relu(self.hidden2(act))\n",
      "        main_output = self.main_head(act)\n",
      "        aux_output = self.aux_head(act)\n",
      "        if label is not None:\n",
      "            main_loss = self.main_loss_fn(main_output.squeeze(), label)\n",
      "            aux_loss = self.aux_loss_fn(aux_output.squeeze(), label)\n",
      "            return main_output, aux_output, main_loss, aux_loss\n",
      "        return main_output\n",
      "\n",
      "# Tải mô hình từ Hugging Face Hub\n",
      "model = WideAndDeepNet.from_pretrained(\"sadhaklal/wide-and-deep-net-california-housing-v3\")\n",
      "model.eval()\n",
      "\n",
      "# Load dữ liệu đầu vào từ file test.csv\n",
      "test_data = pd.read_csv('test.csv')\n",
      "\n",
      "# Lấy features theo thứ tự đúng\n",
      "features = ['MedInc', 'HouseAge', 'AveRooms', 'AveBedrms', 'Population', 'AveOccup', 'Latitude', 'Longitude']\n",
      "input_data = test_data[features].values\n",
      "\n",
      "# Chuyển dữ liệu đầu vào thành tensor\n",
      "input_tensor = torch.from_numpy(input_data).float()\n",
      "\n",
      "# Dự đoán với mô hình\n",
      "with torch.no_grad():\n",
      "    predictions = model(input_tensor)\n",
      "\n",
      "# Chuyển đổi giá trị dự đoán thành nhóm\n",
      "def classify_price(value):\n",
      "    value = value.item()\n",
      "    if value < 1:\n",
      "        return 'low'\n",
      "    elif 1 <= value < 2.5:\n",
      "        return 'medium'\n",
      "    else:\n",
      "        return 'high'\n",
      "\n",
      "# Tạo dataframe kết quả\n",
      "output_data = test_data[['ID']].copy()\n",
      "output_data['MedHouseVal'] = predictions.apply(classify_price)\n",
      "\n",
      "# Lưu kết quả vào file output.csv\n",
      "output_data.to_csv('output.csv', index=False)\n",
      "```\n"
     ]
    }
   ],
   "source": [
    "print(coding_state[\"code\"])"
   ]
  },
  {
   "cell_type": "code",
   "execution_count": 486,
   "id": "888cd97c",
   "metadata": {},
   "outputs": [
    {
     "data": {
      "text/plain": [
       "{'problem_description': 'Bối cảnh của vấn đề:\\nĐây là một nhiệm vụ hồi quy. Mục tiêu là dự đoán giá trị trung bình của nhà ở các quận của California bằng cách sử dụng các đặc trưng từ cuộc điều tra dân số năm 1990, chẳng hạn như thu nhập trung bình, tuổi trung bình của nhà ở, tổng số phòng, v.v. ()\\n\\nYêu cầu cụ thể cần đạt được:\\nXây dựng một hệ thống có khả năng nhận đầu vào là một list các features của khu vực có liên quan đến giá trung bình của nhà ở và đầu ra hệ thống là phân loại khu vực đó thuộc nhóm “rẻ”, “trung bình” hay “đắt” để dễ trực quan hóa hoặc định hướng chính sách\\nMô hình cần xử lý đầu vào là 1 list các features liên quan đến giá trung bình của nhà ở\\nĐầu ra là nhãn của nhà ở khu vực đấy thuộc về\\n\\nĐịnh dạng dữ liệu đầu vào cho bài toán tổng thể:\\nMột file test.csv. Mỗi hàng là features cho từng task bao gồm các cột:\\n\\nMedInc: Thu nhập trung vị của người dân sống trong khu vực (block)\\nHouseAge: Tuổi trung vị của các căn nhà trong khu vực\\nAveRooms: Số phòng trung bình của các căn nhà trong khu vực\\nAveBedrms: Số phòng ngủ trung bình của các căn nhà trong khu vực\\nPopulation: Số người sinh sống trong khu vực\\nAveOccup: Số người trung bình sống chung trong một hộ (dưới cùng một mái nhà)\\nLatitude: Vĩ độ địa lý\\nLongitude: Kinh độ địa lý\\nID: id của task\\n \\nĐịnh dạng kết quả đầu ra mong muốn cho bài toán tổng thể:\\nFile output.csv mỗi hàng là kết quả dự đoán mỗi task\\ncó các cột:\\nID: id của task\\nMedHouseVal: nhóm  nhà ở khu vực đó thuộc về\\n\\nCác nhóm có thể là:\\nlow: nhóm \"rẻ\" có giá trung bình < 1\\nmedium: nhóm \"rẻ\" có 1 <= giá trung bình < 2.5\\nhigh: nhóm \"rẻ\" có giá trung bình >= 2.5\\n\\n',\n",
       " 'problem_input_description': 'Xác định định dạng dữ liệu đầu vào. Dữ liệu đầu vào là một file test.csv, mỗi hàng đại diện cho các features của một khu vực, bao gồm các cột: MedInc, HouseAge, AveRooms, AveBedrms, Population, AveOccup, Latitude, Longitude, ID.',\n",
       " 'problem_output_description': \"Xác định định dạng kết quả đầu ra. Kết quả đầu ra là một file output.csv, mỗi hàng đại diện cho kết quả dự đoán của một khu vực, bao gồm các cột: ID, MedHouseVal với các nhãn 'low', 'medium', hay 'high'.\",\n",
       " 'model_description': '**✅ Model name and link**  \\n `Dự đoán giá trung bình nhà ở các quận Cali` — `https://huggingface.co/zhaospei/Model_2`\\n\\n **📝 Description (from tool):**  \\n Đây là một mô hình Wide & Deep Neural Network được huấn luyện trên tập dữ liệu California Housing để dự đoán giá nhà trung bình (MedHouseVal). Mô hình được xây dựng bằng PyTorch, dựa trên kiến trúc trong cuốn Hands-On Machine Learning with Scikit-Learn, Keras, and TensorFlow của Aurélien Géron.\\n\\n **📥 Input format (from tool):**  \\n Số chiều: [batch_size,8] \\n Kiểu dữ liệu: torch.FloatTensor \\n Các đặc trưng đầu vào:\\n - \\'MedInc\\' – Thu nhập trung vị\\n - \\'HouseAge\\' – Tuổi trung bình của căn nhà\\n - \\'AveRooms\\' – Số phòng trung bình\\n - \\'AveBedrms\\' – Số phòng ngủ trung bình\\n - \\'Population\\' – Dân số\\n - \\'AveOccup\\' – Số người trung bình trên mỗi hộ\\n - \\'Latitude\\' – Vĩ độ\\n - \\'Longitude\\' – Kinh độ\\n\\n **📤 Output format (from tool):**  \\n Kiểu: torch.FloatTensor có shape [batch_size,1] \\n Ý nghĩa: Giá nhà trung bình dự đoán (giá trị thực).\\n\\n **🛠️ Library Requirements (from tool) ** \\n None\\n\\n **🧪 Example code (from tool):**  \\n ```python\\nimport torch\\nimport torch.nn as nn\\nfrom huggingface_hub import PyTorchModelHubMixin\\n\\n# Tạo dữ liệu đầu vào giả lập (batch1,8 features)\\nx_input = torch.randn(1,8)\\nprint(\"Mock input:\")\\nprint(x_input)\\n\\n# Định nghĩa mô hình Wide & Deep Neural Network\\nclass WideAndDeepNet(nn.Module, PyTorchModelHubMixin):\\n def __init__(self):\\n super().__init__()\\n self.hidden1 = nn.Linear(6,30)\\n self.hidden2 = nn.Linear(30,30)\\n self.main_head = nn.Linear(35,1)\\n self.aux_head = nn.Linear(30,1)\\n self.main_loss_fn = nn.MSELoss(reduction=\\'sum\\')\\n self.aux_loss_fn = nn.MSELoss(reduction=\\'sum\\')\\n\\n def forward(self, input_wide, input_deep, label=None):\\n act = torch.relu(self.hidden1(input_deep))\\n act = torch.relu(self.hidden2(act))\\n concat = torch.cat([input_wide, act], dim=1)\\n main_output = self.main_head(concat)\\n aux_output = self.aux_head(act)\\n if label is not None:\\n main_loss = self.main_loss_fn(main_output.squeeze(), label)\\n aux_loss = self.aux_loss_fn(aux_output.squeeze(), label)\\n return WideAndDeepNetOutput(main_output=main_output, aux_output=aux_output)\\n\\n# Tải mô hình từ Hugging Face Hub\\nmodel = WideAndDeepNet.from_pretrained(\"sadhaklal/wide-and-deep-net-california-housing-v3\")\\nmodel.eval()\\n\\n# Dự đoán với mô hình\\nwith torch.no_grad():\\n prediction = model(x_input)\\nprint(f\"Giá nhà dự đoán (mock input): {prediction.item():.3f}\")\\n```',\n",
       " 'model_input_format': \"Số chiều: [batch_size,8]\\nKiểu dữ liệu: torch.FloatTensor\\nCác đặc trưng đầu vào:\\n- 'MedInc' – Thu nhập trung vị\\n- 'HouseAge' – Tuổi trung bình của căn nhà\\n- 'AveRooms' – Số phòng trung bình\\n- 'AveBedrms' – Số phòng ngủ trung bình\\n- 'Population' – Dân số\\n- 'AveOccup' – Số người trung bình trên mỗi hộ\\n- 'Latitude' – Vĩ độ\\n- 'Longitude' – Kinh độ\",\n",
       " 'model_output_format': 'Kiểu: torch.FloatTensor có shape [batch_size,1]\\nÝ nghĩa: Giá nhà trung bình dự đoán (giá trị thực).',\n",
       " 'model_requirements': 'None',\n",
       " 'model_sample_code': 'import torch\\nimport torch.nn as nn\\nfrom huggingface_hub import PyTorchModelHubMixin\\n\\n# Tạo dữ liệu đầu vào giả lập (batch1,8 features)\\nx_input = torch.randn(1,8)\\nprint(\"Mock input:\")\\nprint(x_input)\\n\\n# Định nghĩa mô hình Wide & Deep Neural Network\\nclass WideAndDeepNet(nn.Module, PyTorchModelHubMixin):\\n def __init__(self):\\n super().__init__()\\n self.hidden1 = nn.Linear(6,30)\\n self.hidden2 = nn.Linear(30,30)\\n self.main_head = nn.Linear(35,1)\\n self.aux_head = nn.Linear(30,1)\\n self.main_loss_fn = nn.MSELoss(reduction=\\'sum\\')\\n self.aux_loss_fn = nn.MSELoss(reduction=\\'sum\\')\\n\\n def forward(self, input_wide, input_deep, label=None):\\n act = torch.relu(self.hidden1(input_deep))\\n act = torch.relu(self.hidden2(act))\\n concat = torch.cat([input_wide, act], dim=1)\\n main_output = self.main_head(concat)\\n aux_output = self.aux_head(act)\\n if label is not None:\\n main_loss = self.main_loss_fn(main_output.squeeze(), label)\\n aux_loss = self.aux_loss_fn(aux_output.squeeze(), label)\\n return WideAndDeepNetOutput(main_output=main_output, aux_output=aux_output)\\n\\n# Tải mô hình từ Hugging Face Hub\\nmodel = WideAndDeepNet.from_pretrained(\"sadhaklal/wide-and-deep-net-california-housing-v3\")\\nmodel.eval()\\n\\n# Dự đoán với mô hình\\nwith torch.no_grad():\\n prediction = model(x_input)\\nprint(f\"Giá nhà dự đoán (mock input): {prediction.item():.3f}\")',\n",
       " 'output_classes': 'low, medium, high',\n",
       " 'code': '```python\\nimport pandas as pd\\nimport torch\\nfrom huggingface_hub import PyTorchModelHubMixin\\nimport torch.nn as nn\\n\\n# Định nghĩa mô hình Wide & Deep Neural Network\\nclass WideAndDeepNet(nn.Module, PyTorchModelHubMixin):\\n    def __init__(self):\\n        super().__init__()\\n        self.hidden1 = nn.Linear(8, 30) # Sửa input size từ 6 thành 8\\n        self.hidden2 = nn.Linear(30, 30)\\n        self.main_head = nn.Linear(30, 1) # Sửa input size từ 35 thành 30\\n        self.aux_head = nn.Linear(30, 1)\\n        self.main_loss_fn = nn.MSELoss(reduction=\\'sum\\')\\n        self.aux_loss_fn = nn.MSELoss(reduction=\\'sum\\')\\n\\n    def forward(self, input_deep, label=None):\\n        act = torch.relu(self.hidden1(input_deep))\\n        act = torch.relu(self.hidden2(act))\\n        main_output = self.main_head(act)\\n        aux_output = self.aux_head(act)\\n        if label is not None:\\n            main_loss = self.main_loss_fn(main_output.squeeze(), label)\\n            aux_loss = self.aux_loss_fn(aux_output.squeeze(), label)\\n            return main_output, aux_output, main_loss, aux_loss\\n        return main_output\\n\\n# Tải mô hình từ Hugging Face Hub\\nmodel = WideAndDeepNet.from_pretrained(\"sadhaklal/wide-and-deep-net-california-housing-v3\")\\nmodel.eval()\\n\\n# Load dữ liệu đầu vào từ file test.csv\\ntest_data = pd.read_csv(\\'test.csv\\')\\n\\n# Lấy features theo thứ tự đúng\\nfeatures = [\\'MedInc\\', \\'HouseAge\\', \\'AveRooms\\', \\'AveBedrms\\', \\'Population\\', \\'AveOccup\\', \\'Latitude\\', \\'Longitude\\']\\ninput_data = test_data[features].values\\n\\n# Chuyển dữ liệu đầu vào thành tensor\\ninput_tensor = torch.from_numpy(input_data).float()\\n\\n# Dự đoán với mô hình\\nwith torch.no_grad():\\n    predictions = model(input_tensor)\\n\\n# Chuyển đổi giá trị dự đoán thành nhóm\\ndef classify_price(value):\\n    value = value.item()\\n    if value < 1:\\n        return \\'low\\'\\n    elif 1 <= value < 2.5:\\n        return \\'medium\\'\\n    else:\\n        return \\'high\\'\\n\\n# Tạo dataframe kết quả\\noutput_data = test_data[[\\'ID\\']].copy()\\noutput_data[\\'MedHouseVal\\'] = predictions.apply(classify_price)\\n\\n# Lưu kết quả vào file output.csv\\noutput_data.to_csv(\\'output.csv\\', index=False)\\n```'}"
      ]
     },
     "execution_count": 486,
     "metadata": {},
     "output_type": "execute_result"
    }
   ],
   "source": [
    "coding_state"
   ]
  }
 ],
 "metadata": {
  "kernelspec": {
   "display_name": "venv",
   "language": "python",
   "name": "python3"
  },
  "language_info": {
   "codemirror_mode": {
    "name": "ipython",
    "version": 3
   },
   "file_extension": ".py",
   "mimetype": "text/x-python",
   "name": "python",
   "nbconvert_exporter": "python",
   "pygments_lexer": "ipython3",
   "version": "3.12.3"
  }
 },
 "nbformat": 4,
 "nbformat_minor": 5
}
